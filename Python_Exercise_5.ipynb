{
  "nbformat": 4,
  "nbformat_minor": 0,
  "metadata": {
    "colab": {
      "name": "09/06.ipynb",
      "provenance": [],
      "collapsed_sections": [],
      "authorship_tag": "ABX9TyMbis7QJgU7wF54kx9b7QF+",
      "include_colab_link": true
    },
    "kernelspec": {
      "name": "python3",
      "display_name": "Python 3"
    },
    "language_info": {
      "name": "python"
    }
  },
  "cells": [
    {
      "cell_type": "markdown",
      "metadata": {
        "id": "view-in-github",
        "colab_type": "text"
      },
      "source": [
        "<a href=\"https://colab.research.google.com/github/PalanivelH/PalanivelH/blob/main/Python_Exercise_5.ipynb\" target=\"_parent\"><img src=\"https://colab.research.google.com/assets/colab-badge.svg\" alt=\"Open In Colab\"/></a>"
      ]
    },
    {
      "cell_type": "markdown",
      "source": [
        "Recursive Function"
      ],
      "metadata": {
        "id": "dqevSqo5MLN_"
      }
    },
    {
      "cell_type": "code",
      "execution_count": null,
      "metadata": {
        "id": "H7cwLbzjMBFX"
      },
      "outputs": [],
      "source": [
        "#Factorial = 8 -> 8*7*6*5*4*3*2*1\n",
        "\n",
        "def factorial(c):\n",
        "  pass\n",
        "  \n",
        "\n",
        "factorial(5)"
      ]
    },
    {
      "cell_type": "code",
      "source": [
        "def factorial(c):\n",
        "\n",
        "  if c==1:\n",
        "    return 1\n",
        "  else:\n",
        "    return(c*factorial(c-1))\n",
        "\n",
        "\n",
        "factorial(5)"
      ],
      "metadata": {
        "colab": {
          "base_uri": "https://localhost:8080/"
        },
        "id": "tX7om-jDNMVp",
        "outputId": "afd67e37-fb6d-427a-f757-d5b2540230bf"
      },
      "execution_count": null,
      "outputs": [
        {
          "output_type": "execute_result",
          "data": {
            "text/plain": [
              "120"
            ]
          },
          "metadata": {},
          "execution_count": 9
        }
      ]
    },
    {
      "cell_type": "code",
      "source": [
        "def sum(r):\n",
        "  if r==0:\n",
        "    return 0\n",
        "  else:\n",
        "    return(r+sum(r-1))\n",
        " \n",
        "\n",
        "sum(5)\n"
      ],
      "metadata": {
        "colab": {
          "base_uri": "https://localhost:8080/"
        },
        "id": "CjVPZdRaOBUY",
        "outputId": "eb6e5d73-c96e-48ac-ce7b-bb3cb149178a"
      },
      "execution_count": null,
      "outputs": [
        {
          "output_type": "execute_result",
          "data": {
            "text/plain": [
              "15"
            ]
          },
          "metadata": {},
          "execution_count": 19
        }
      ]
    },
    {
      "cell_type": "code",
      "source": [
        "def subtraction(y):\n",
        "  if y==0:\n",
        "    return 0 \n",
        "  else:\n",
        "    return (y-subtraction(y-1))\n",
        "\n",
        "subtraction(1)"
      ],
      "metadata": {
        "colab": {
          "base_uri": "https://localhost:8080/"
        },
        "id": "NN5GTzoMQXjZ",
        "outputId": "d3ffb7b9-2e75-4f39-9146-b1e65c079df6"
      },
      "execution_count": null,
      "outputs": [
        {
          "output_type": "execute_result",
          "data": {
            "text/plain": [
              "5"
            ]
          },
          "metadata": {},
          "execution_count": 24
        }
      ]
    },
    {
      "cell_type": "code",
      "source": [
        "def addition(y):\n",
        "  if y==10:\n",
        "    return 0 \n",
        "  else:\n",
        "    return (y+addition(y+1))\n",
        "\n",
        "addition(1)"
      ],
      "metadata": {
        "colab": {
          "base_uri": "https://localhost:8080/"
        },
        "id": "_1bXkxGcSpin",
        "outputId": "38177d89-aa1c-499a-99e0-08ee1bd9545a"
      },
      "execution_count": null,
      "outputs": [
        {
          "output_type": "execute_result",
          "data": {
            "text/plain": [
              "45"
            ]
          },
          "metadata": {},
          "execution_count": 25
        }
      ]
    },
    {
      "cell_type": "code",
      "source": [
        "def factorial(z):\n",
        "  if z==6:\n",
        "    return 1\n",
        "  else:\n",
        "    return(z*factorial(z+1))\n",
        "\n",
        "\n",
        "factorial(1)"
      ],
      "metadata": {
        "colab": {
          "base_uri": "https://localhost:8080/"
        },
        "id": "yAcgykEFUUSl",
        "outputId": "4ebd5638-7d7c-40cd-cc1e-6b76507fdf02"
      },
      "execution_count": null,
      "outputs": [
        {
          "output_type": "execute_result",
          "data": {
            "text/plain": [
              "120"
            ]
          },
          "metadata": {},
          "execution_count": 27
        }
      ]
    },
    {
      "cell_type": "code",
      "source": [
        "print(5-4-3-2-1-0)\n",
        "print(9+8+7+6+5+4+3+2+1)\n",
        "print(5*4*3*2*1)"
      ],
      "metadata": {
        "colab": {
          "base_uri": "https://localhost:8080/"
        },
        "id": "AKD_DkLtREUb",
        "outputId": "ded45ed5-fa75-4530-d030-ac14bace610f"
      },
      "execution_count": null,
      "outputs": [
        {
          "output_type": "stream",
          "name": "stdout",
          "text": [
            "-5\n",
            "45\n",
            "120\n"
          ]
        }
      ]
    },
    {
      "cell_type": "markdown",
      "source": [
        "Lambda Function"
      ],
      "metadata": {
        "id": "Y_a--xkHscMR"
      }
    },
    {
      "cell_type": "code",
      "source": [
        "a= lambda v:v+100\n",
        "print(a(100))\n",
        "\n",
        "c= lambda v,t:v*t\n",
        "print(c(10,10))"
      ],
      "metadata": {
        "colab": {
          "base_uri": "https://localhost:8080/"
        },
        "id": "vJjDRXf7sfXt",
        "outputId": "0d713ce7-e49f-4318-bf59-bf13b4e31956"
      },
      "execution_count": null,
      "outputs": [
        {
          "output_type": "stream",
          "name": "stdout",
          "text": [
            "200\n",
            "100\n"
          ]
        }
      ]
    },
    {
      "cell_type": "markdown",
      "source": [
        "Passing List as argument in Function"
      ],
      "metadata": {
        "id": "YC3zmfljt5Y1"
      }
    },
    {
      "cell_type": "code",
      "source": [
        "def gh (total):\n",
        "  return sum(total)\n",
        "\n",
        "\n",
        "print(gh([1,2,3,4,5]))"
      ],
      "metadata": {
        "colab": {
          "base_uri": "https://localhost:8080/"
        },
        "id": "aPYgBryWuBe-",
        "outputId": "4e6ce2c7-e243-4530-d013-e28e3e1f3e42"
      },
      "execution_count": null,
      "outputs": [
        {
          "output_type": "stream",
          "name": "stdout",
          "text": [
            "15\n"
          ]
        }
      ]
    },
    {
      "cell_type": "code",
      "source": [
        "def total(marks):\n",
        "  return sum(marks)\n",
        "\n",
        "total([23,87,89,56])"
      ],
      "metadata": {
        "colab": {
          "base_uri": "https://localhost:8080/"
        },
        "id": "Zw6blOIguv4y",
        "outputId": "877cc8b2-b537-42b0-9bc0-bf582a6e19f3"
      },
      "execution_count": null,
      "outputs": [
        {
          "output_type": "execute_result",
          "data": {
            "text/plain": [
              "255"
            ]
          },
          "metadata": {},
          "execution_count": 8
        }
      ]
    },
    {
      "cell_type": "markdown",
      "source": [
        "Date and Time"
      ],
      "metadata": {
        "id": "m6KnCDRJ8c1P"
      }
    },
    {
      "cell_type": "code",
      "source": [
        "import datetime as DT\n",
        "\n",
        "td=DT.date.today()\n",
        "\n",
        "print(td)"
      ],
      "metadata": {
        "colab": {
          "base_uri": "https://localhost:8080/"
        },
        "id": "X5RFEbZb8eiy",
        "outputId": "6307071a-1b7f-45c0-8604-ce5959ef684e"
      },
      "execution_count": null,
      "outputs": [
        {
          "output_type": "stream",
          "name": "stdout",
          "text": [
            "2022-06-09\n"
          ]
        }
      ]
    },
    {
      "cell_type": "code",
      "source": [
        "import datetime as dt\n",
        "\n",
        "d = dt.date(2019, 12, 10)\n",
        "\n",
        "print(d)\n",
        "\n",
        "print(d.year)\n",
        "print(d.month)\n",
        "print(d.day)\n"
      ],
      "metadata": {
        "colab": {
          "base_uri": "https://localhost:8080/"
        },
        "id": "phvEqYID9FyY",
        "outputId": "fc6795fc-340f-43a1-fedf-953757e29c38"
      },
      "execution_count": null,
      "outputs": [
        {
          "output_type": "stream",
          "name": "stdout",
          "text": [
            "2019-12-10\n",
            "2019\n",
            "12\n",
            "10\n"
          ]
        }
      ]
    },
    {
      "cell_type": "code",
      "source": [
        "import datetime as ddtt\n",
        "\n",
        "current=ddtt.datetime.now()\n",
        "current_1=ddtt.time()\n",
        "\n",
        "print(current)\n",
        "print(current_1)"
      ],
      "metadata": {
        "colab": {
          "base_uri": "https://localhost:8080/"
        },
        "id": "eE3cWPGw-B6u",
        "outputId": "992a4c95-36a3-4dfe-c1f2-e5c1b48300b1"
      },
      "execution_count": null,
      "outputs": [
        {
          "output_type": "stream",
          "name": "stdout",
          "text": [
            "2022-06-09 10:32:33.187496\n",
            "00:00:00\n"
          ]
        }
      ]
    },
    {
      "cell_type": "code",
      "source": [
        "import datetime as dt\n",
        "\n",
        "var=dt.time(11,56,34)\n",
        "\n",
        "print(var.hour)\n",
        "print(var.second)\n",
        "\n",
        "var_1=dt.date(1997,12,6)\n",
        "\n",
        "print(var_1.month)\n",
        "print(var_1.day)\n",
        "\n",
        "var_2=dt.datetime.now()\n",
        "\n",
        "print(var_2.time)\n",
        "\n",
        "var_3=dt.date.today()\n",
        "\n",
        "var_4=dt.datetime.today()\n",
        "\n",
        "print(var_4.date())\n",
        "print(var_4.time())\n",
        "\n",
        "print(var)\n",
        "print(var_1)\n",
        "print(var_2)\n",
        "print(var_3)\n",
        "print(var_4)"
      ],
      "metadata": {
        "colab": {
          "base_uri": "https://localhost:8080/"
        },
        "id": "e77DNYXfDYgn",
        "outputId": "8de73eec-cb15-4222-bb21-3a429e863549"
      },
      "execution_count": null,
      "outputs": [
        {
          "output_type": "stream",
          "name": "stdout",
          "text": [
            "11\n",
            "34\n",
            "12\n",
            "6\n",
            "<built-in method time of datetime.datetime object at 0x7f44da0bc2a0>\n",
            "2022-06-09\n",
            "10:55:08.391409\n",
            "11:56:34\n",
            "1997-12-06\n",
            "2022-06-09 10:55:08.391253\n",
            "2022-06-09\n",
            "2022-06-09 10:55:08.391409\n"
          ]
        }
      ]
    },
    {
      "cell_type": "code",
      "source": [
        "import datetime as dt\n",
        "\n",
        "current=dt.date.today()\n",
        "\n",
        "new_year=dt.date(2023,1,1)\n",
        "\n",
        "diff=new_year-current\n",
        "\n",
        "print(diff)"
      ],
      "metadata": {
        "colab": {
          "base_uri": "https://localhost:8080/"
        },
        "id": "oYoEXEhzJRrY",
        "outputId": "4373c604-6f08-4e13-f96f-72ed886e40cb"
      },
      "execution_count": null,
      "outputs": [
        {
          "output_type": "stream",
          "name": "stdout",
          "text": [
            "206 days, 0:00:00\n"
          ]
        }
      ]
    },
    {
      "cell_type": "code",
      "source": [
        "import datetime as dt\n",
        "\n",
        "v1=dt.datetime(2019,8,9,12,34,56)\n",
        "v2=dt.datetime(2022,9,8,12,56,12)\n",
        "v3=v2-v1\n",
        "print(v3)\n",
        "\n",
        "v=dt.datetime.now()\n",
        "\n",
        "print(v)\n",
        "\n",
        "s=v.strftime(\"%d/%b/%Y\")\n",
        "s1=v.strftime(\"%D\")\n",
        "print(s)\n",
        "print(s1)"
      ],
      "metadata": {
        "colab": {
          "base_uri": "https://localhost:8080/"
        },
        "id": "MKIW_APeLE4E",
        "outputId": "08e1dec0-e199-4453-983b-6d4c20fddb08"
      },
      "execution_count": null,
      "outputs": [
        {
          "output_type": "stream",
          "name": "stdout",
          "text": [
            "1126 days, 0:21:16\n",
            "2022-06-09 11:36:44.750304\n",
            "09/Jun/2022\n",
            "06/09/22\n"
          ]
        }
      ]
    },
    {
      "cell_type": "code",
      "source": [
        "import datetime as st\n",
        "\n",
        "v=st.datetime.today()\n",
        "\n",
        "s=v.strftime(\"%X\")\n",
        "\n",
        "print(v)\n",
        "print(s)"
      ],
      "metadata": {
        "colab": {
          "base_uri": "https://localhost:8080/"
        },
        "id": "LUQK-RtVdPhP",
        "outputId": "6bb4f27e-edb1-4924-9d1d-93c3916ee87e"
      },
      "execution_count": null,
      "outputs": [
        {
          "output_type": "stream",
          "name": "stdout",
          "text": [
            "2022-06-09 12:37:30.424055\n",
            "12:37:30\n"
          ]
        }
      ]
    },
    {
      "cell_type": "markdown",
      "source": [
        "Math Function"
      ],
      "metadata": {
        "id": "nCAeOMXVhZkf"
      }
    },
    {
      "cell_type": "code",
      "source": [
        "import math\n",
        "\n",
        "print(math.sqrt(9))\n",
        "print(math.factorial(5))\n",
        "print(math.sin(1))\n",
        "print(math.ceil(8.2))\n",
        "print(math.floor(8.45555))\n",
        "print(math.fabs(8))\n",
        "print(math.pow(1,2))\n",
        "print(math.log2(2))\n",
        "print(math.log10(2))\n",
        "print(math.pi)\n",
        "print(math.e)\n",
        "print(math.pi*2)"
      ],
      "metadata": {
        "colab": {
          "base_uri": "https://localhost:8080/"
        },
        "id": "jOVIsR2fhcEv",
        "outputId": "edbff0bf-65cd-4c90-d759-ba734a4dd90a"
      },
      "execution_count": null,
      "outputs": [
        {
          "output_type": "stream",
          "name": "stdout",
          "text": [
            "3.0\n",
            "120\n",
            "0.8414709848078965\n",
            "9\n",
            "8\n",
            "8.0\n",
            "1.0\n",
            "1.0\n",
            "0.3010299956639812\n",
            "3.141592653589793\n",
            "2.718281828459045\n",
            "6.283185307179586\n"
          ]
        }
      ]
    },
    {
      "cell_type": "markdown",
      "source": [
        "Try Block, Except, Else, Finally"
      ],
      "metadata": {
        "id": "tXJm-55NoU24"
      }
    },
    {
      "cell_type": "code",
      "source": [
        "try:\n",
        "  a=10/0\n",
        "\n",
        "except Exception as e:\n",
        "\n",
        " print(e)"
      ],
      "metadata": {
        "colab": {
          "base_uri": "https://localhost:8080/"
        },
        "id": "c0MKOfQUoZrc",
        "outputId": "b5df1ce4-3550-4166-b80a-9a29f6a32c61"
      },
      "execution_count": null,
      "outputs": [
        {
          "output_type": "stream",
          "name": "stdout",
          "text": [
            "division by zero\n"
          ]
        }
      ]
    },
    {
      "cell_type": "code",
      "source": [
        "a=10/0\n",
        "print(a)"
      ],
      "metadata": {
        "colab": {
          "base_uri": "https://localhost:8080/",
          "height": 183
        },
        "id": "jKbY6CSZpnSN",
        "outputId": "00396056-8296-4fb9-c092-d26958181eda"
      },
      "execution_count": null,
      "outputs": [
        {
          "output_type": "error",
          "ename": "ZeroDivisionError",
          "evalue": "ignored",
          "traceback": [
            "\u001b[0;31m---------------------------------------------------------------------------\u001b[0m",
            "\u001b[0;31mZeroDivisionError\u001b[0m                         Traceback (most recent call last)",
            "\u001b[0;32m<ipython-input-92-a0b5039d5445>\u001b[0m in \u001b[0;36m<module>\u001b[0;34m()\u001b[0m\n\u001b[0;32m----> 1\u001b[0;31m \u001b[0ma\u001b[0m\u001b[0;34m=\u001b[0m\u001b[0;36m10\u001b[0m\u001b[0;34m/\u001b[0m\u001b[0;36m0\u001b[0m\u001b[0;34m\u001b[0m\u001b[0;34m\u001b[0m\u001b[0m\n\u001b[0m\u001b[1;32m      2\u001b[0m \u001b[0mprint\u001b[0m\u001b[0;34m(\u001b[0m\u001b[0ma\u001b[0m\u001b[0;34m)\u001b[0m\u001b[0;34m\u001b[0m\u001b[0;34m\u001b[0m\u001b[0m\n",
            "\u001b[0;31mZeroDivisionError\u001b[0m: division by zero"
          ]
        }
      ]
    },
    {
      "cell_type": "code",
      "source": [
        "try:\n",
        " a=5/5\n",
        "except Exception as i:\n",
        " print(i)\n",
        "else:\n",
        "\n",
        "  print(a)"
      ],
      "metadata": {
        "colab": {
          "base_uri": "https://localhost:8080/"
        },
        "id": "K1eFswZHp2Az",
        "outputId": "38d42ec3-9fc3-4fa2-9ea3-dc911688b693"
      },
      "execution_count": null,
      "outputs": [
        {
          "output_type": "stream",
          "name": "stdout",
          "text": [
            "1.0\n"
          ]
        }
      ]
    },
    {
      "cell_type": "code",
      "source": [
        "\n",
        "try:\n",
        "  e=2/2\n",
        "  print(e)\n",
        "\n",
        "except Exception as q:\n",
        "  print(q)\n",
        "\n",
        "finally:\n",
        "  print('It is completed')\n"
      ],
      "metadata": {
        "colab": {
          "base_uri": "https://localhost:8080/"
        },
        "id": "yiKOS1Jkr0FQ",
        "outputId": "687382dd-88d9-4c0c-9183-15d5a6310578"
      },
      "execution_count": null,
      "outputs": [
        {
          "output_type": "stream",
          "name": "stdout",
          "text": [
            "1.0\n",
            "It is completed\n"
          ]
        }
      ]
    },
    {
      "cell_type": "code",
      "source": [
        "try:\n",
        "  r=3/3\n",
        "  print(\"Enter the value :\", r)\n",
        "\n",
        "except Exception as d:\n",
        "  print(d)\n",
        "\n",
        "finally:\n",
        "  print('Awesome')\n"
      ],
      "metadata": {
        "colab": {
          "base_uri": "https://localhost:8080/"
        },
        "id": "oJqjzZGart0U",
        "outputId": "b7aeb2dd-8d6d-4404-b10a-854f0753b57a"
      },
      "execution_count": null,
      "outputs": [
        {
          "output_type": "stream",
          "name": "stdout",
          "text": [
            "Enter the value : 1.0\n",
            "Awesome\n"
          ]
        }
      ]
    }
  ]
}