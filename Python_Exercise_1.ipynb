{
  "nbformat": 4,
  "nbformat_minor": 0,
  "metadata": {
    "colab": {
      "name": "Untitled0.ipynb",
      "provenance": [],
      "collapsed_sections": [],
      "authorship_tag": "ABX9TyMuseNF+wztnhwUpqtFYTlU",
      "include_colab_link": true
    },
    "kernelspec": {
      "name": "python3",
      "display_name": "Python 3"
    },
    "language_info": {
      "name": "python"
    }
  },
  "cells": [
    {
      "cell_type": "markdown",
      "metadata": {
        "id": "view-in-github",
        "colab_type": "text"
      },
      "source": [
        "<a href=\"https://colab.research.google.com/github/PalanivelH/PalanivelH/blob/main/Python_Exercise_1.ipynb\" target=\"_parent\"><img src=\"https://colab.research.google.com/assets/colab-badge.svg\" alt=\"Open In Colab\"/></a>"
      ]
    },
    {
      "cell_type": "code",
      "execution_count": null,
      "metadata": {
        "colab": {
          "base_uri": "https://localhost:8080/"
        },
        "id": "iGkMhguoDbYJ",
        "outputId": "77f492a1-ff1d-4c27-879b-571eaa4f4d44"
      },
      "outputs": [
        {
          "output_type": "stream",
          "name": "stdout",
          "text": [
            "Yoga event\n",
            "<class 'str'>\n",
            "YOGA EVENT\n",
            "yoga event\n",
            "Yoga event\n",
            "Yoga Event\n",
            "1\n",
            "False\n",
            "2\n",
            "Yoga 0v0nt\n",
            "<built-in method casefold of str object at 0x7f114da2f170>\n"
          ]
        }
      ],
      "source": [
        "SF=\"Yoga event\"\n",
        "print(SF)\n",
        "print(type(SF))\n",
        "print(SF.upper())\n",
        "print(SF.lower())\n",
        "print(SF.capitalize())\n",
        "print(SF.title())\n",
        "print(SF.count('ve'))\n",
        "print(SF.endswith('tn'))\n",
        "print(SF.find('ga'))\n",
        "print(SF.replace('e','0'))\n",
        "print(SF.casefold)"
      ]
    },
    {
      "cell_type": "markdown",
      "source": [
        "String and String Functions\n"
      ],
      "metadata": {
        "id": "GS0M4ImpDcSw"
      }
    },
    {
      "cell_type": "code",
      "source": [
        "E=\"Palanive l345\"\n",
        "print(\"Enter the Value :\", E)\n",
        "print(\"Is All the characters are in uppercase : \", E.isupper())\n",
        "print(\"Is every characters in lowercase :\",E.islower())\n",
        "print(\"Is that only contains Alpha :\",E.isalnum())\n",
        "print(\"Is that having number :\",E.isnumeric())\n",
        "print(\"Is that having decimal :\",E.isdecimal())\n",
        "print(\"Is\",E.isspace())"
      ],
      "metadata": {
        "colab": {
          "base_uri": "https://localhost:8080/"
        },
        "id": "Kp0kfuAFG4Gb",
        "outputId": "bd48d968-42b6-4e00-bbcc-b39545e7caac"
      },
      "execution_count": null,
      "outputs": [
        {
          "output_type": "stream",
          "name": "stdout",
          "text": [
            "Enter the Value : Palanive l345\n",
            "Is All the characters are in uppercase :  False\n",
            "Is every characters in lowercase : False\n",
            "Is that only contains Alpha : False\n",
            "Is that having number : False\n",
            "Is that having decimal : False\n",
            "Is False\n"
          ]
        }
      ]
    }
  ]
}