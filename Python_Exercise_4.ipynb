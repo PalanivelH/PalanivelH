{
  "nbformat": 4,
  "nbformat_minor": 0,
  "metadata": {
    "colab": {
      "name": "29/05.ipynb",
      "provenance": [],
      "collapsed_sections": [],
      "authorship_tag": "ABX9TyNvC43l9oU3taN0kW5q6Xhf",
      "include_colab_link": true
    },
    "kernelspec": {
      "name": "python3",
      "display_name": "Python 3"
    },
    "language_info": {
      "name": "python"
    }
  },
  "cells": [
    {
      "cell_type": "markdown",
      "metadata": {
        "id": "view-in-github",
        "colab_type": "text"
      },
      "source": [
        "<a href=\"https://colab.research.google.com/github/PalanivelH/PalanivelH/blob/main/Python_Exercise_4.ipynb\" target=\"_parent\"><img src=\"https://colab.research.google.com/assets/colab-badge.svg\" alt=\"Open In Colab\"/></a>"
      ]
    },
    {
      "cell_type": "code",
      "execution_count": null,
      "metadata": {
        "colab": {
          "base_uri": "https://localhost:8080/"
        },
        "id": "PQwFCqCpsjRA",
        "outputId": "72769667-3159-4ce8-9452-49d9d5216db3"
      },
      "outputs": [
        {
          "output_type": "stream",
          "name": "stdout",
          "text": [
            "My name \n",
            " is \n",
            "  palanivel\n",
            "['My name ', ' is ', '  palanivel']\n",
            "['My name \\n', ' is \\n', '  palanivel']\n",
            "['My', 'name', '\\n', 'is', '\\n', '', 'palanivel']\n"
          ]
        }
      ],
      "source": [
        "D=\"My name \\n is \\n  palanivel\"\n",
        "print(D)\n",
        "print(D.splitlines())\n",
        "print(D.splitlines(True))\n",
        "print(D.split(\" \"))"
      ]
    },
    {
      "cell_type": "markdown",
      "source": [
        "String - Split related Functions"
      ],
      "metadata": {
        "id": "4dYiyyiIuJfe"
      }
    },
    {
      "cell_type": "code",
      "source": [
        "U='P,A,L,A,N,I'\n",
        "print(U)\n",
        "print(U.split(\",\"))\n",
        "print(U.splitlines())"
      ],
      "metadata": {
        "colab": {
          "base_uri": "https://localhost:8080/"
        },
        "id": "5etX4uyluSvm",
        "outputId": "2c92634f-1b78-42c3-fcc6-50ce07b752ba"
      },
      "execution_count": null,
      "outputs": [
        {
          "output_type": "stream",
          "name": "stdout",
          "text": [
            "P,A,L,A,N,I\n",
            "['P', 'A', 'L', 'A', 'N', 'I']\n",
            "['P,A,L,A,N,I']\n"
          ]
        }
      ]
    },
    {
      "cell_type": "code",
      "source": [
        "P='   Police    '\n",
        "print(len(P))\n",
        "print(P.strip())\n",
        "print(P.lstrip())\n",
        "print(len(P.lstrip()))\n",
        "print(len(P.rstrip()))"
      ],
      "metadata": {
        "colab": {
          "base_uri": "https://localhost:8080/"
        },
        "id": "BxOaU4oz1_Ik",
        "outputId": "3918d4f4-a643-4b62-956e-9a9efd51a246"
      },
      "execution_count": null,
      "outputs": [
        {
          "output_type": "stream",
          "name": "stdout",
          "text": [
            "13\n",
            "Police\n",
            "Police    \n",
            "10\n",
            "9\n"
          ]
        }
      ]
    },
    {
      "cell_type": "code",
      "source": [
        "L='23-09-2022'\n",
        "print(L.partition(\"-\"))"
      ],
      "metadata": {
        "colab": {
          "base_uri": "https://localhost:8080/"
        },
        "id": "coOi5Pza452P",
        "outputId": "b339fb03-7859-472f-e7b0-56482d4da47f"
      },
      "execution_count": null,
      "outputs": [
        {
          "output_type": "stream",
          "name": "stdout",
          "text": [
            "('23', '-', '09-2022')\n"
          ]
        }
      ]
    },
    {
      "cell_type": "markdown",
      "source": [
        "String Manipulation or Slicing"
      ],
      "metadata": {
        "id": "fHNi4xV-6QLp"
      }
    },
    {
      "cell_type": "code",
      "source": [
        "F='Friend'\n",
        "print(F)\n",
        "print(F[0:3]) \n",
        "print(F[1:5])\n",
        "print(F[0:8])\n",
        "print(F[:5])\n",
        "print(F[1:])\n",
        "print(F[-6:])\n",
        "print(F[1:-1])\n",
        "print(F[::-1])\n"
      ],
      "metadata": {
        "colab": {
          "base_uri": "https://localhost:8080/"
        },
        "id": "FaW2jDuy6Ur8",
        "outputId": "1c38f36b-f858-4747-cb89-007b76872d88"
      },
      "execution_count": null,
      "outputs": [
        {
          "output_type": "stream",
          "name": "stdout",
          "text": [
            "Friend\n",
            "Fri\n",
            "rien\n",
            "Friend\n",
            "Frien\n",
            "riend\n",
            "Friend\n",
            "rien\n",
            "dneirF\n"
          ]
        }
      ]
    },
    {
      "cell_type": "markdown",
      "source": [
        "Arithmetic Operations"
      ],
      "metadata": {
        "id": "h6OzlVAX98vT"
      }
    },
    {
      "cell_type": "code",
      "source": [
        "O=1\n",
        "P=2\n",
        "\n",
        "print(O+P)\n",
        "print(O-P)\n",
        "print(O*P)\n",
        "print(O/P)\n",
        "print(O**P)\n",
        "print(O//P)\n",
        "print(O%P)"
      ],
      "metadata": {
        "colab": {
          "base_uri": "https://localhost:8080/"
        },
        "id": "97nIJ6Jq9_1x",
        "outputId": "a15ded9f-9857-4264-c901-46175699e2a3"
      },
      "execution_count": null,
      "outputs": [
        {
          "output_type": "stream",
          "name": "stdout",
          "text": [
            "3\n",
            "-1\n",
            "2\n",
            "0.5\n",
            "1\n",
            "0\n",
            "1\n"
          ]
        }
      ]
    },
    {
      "cell_type": "markdown",
      "source": [
        "Arithmetic Assignment Operations"
      ],
      "metadata": {
        "id": "OAknjct2BW75"
      }
    },
    {
      "cell_type": "code",
      "source": [
        "E=8\n",
        "print(E)\n",
        "E+=8  #addition assignment\n",
        "print(E)\n",
        "E-=8 #division assignment\n",
        "print(E)\n",
        "E*=1 #multiplication assignment\n",
        "print(E)\n",
        "E/=2 #division assignment\n",
        "print(E)\n",
        "E**=1  #exponentiation\n",
        "print(E)\n",
        "E//=8  #floor division\n",
        "print(E)"
      ],
      "metadata": {
        "colab": {
          "base_uri": "https://localhost:8080/"
        },
        "id": "_Tmo8J10Bbtr",
        "outputId": "dddb13e8-a866-4abe-f895-ae84d4487cb6"
      },
      "execution_count": null,
      "outputs": [
        {
          "output_type": "stream",
          "name": "stdout",
          "text": [
            "8\n",
            "16\n",
            "8\n",
            "8\n",
            "4.0\n",
            "4.0\n",
            "0.0\n"
          ]
        }
      ]
    },
    {
      "cell_type": "markdown",
      "source": [
        "Comparison or Relational Operaters"
      ],
      "metadata": {
        "id": "SqaPTiY8F8US"
      }
    },
    {
      "cell_type": "code",
      "source": [
        "w=2\n",
        "p=2\n",
        "print(w==p)\n",
        "print(w!=p)\n",
        "print(w<p)\n",
        "print(w>p)\n",
        "print(w>=p)\n",
        "print(w<=p)"
      ],
      "metadata": {
        "colab": {
          "base_uri": "https://localhost:8080/"
        },
        "id": "oq_d5f_lGCQV",
        "outputId": "40973f51-e7ec-42dd-bf70-819299218564"
      },
      "execution_count": null,
      "outputs": [
        {
          "output_type": "stream",
          "name": "stdout",
          "text": [
            "True\n",
            "False\n",
            "False\n",
            "False\n",
            "True\n",
            "True\n"
          ]
        }
      ]
    },
    {
      "cell_type": "markdown",
      "source": [
        "Logical Operators"
      ],
      "metadata": {
        "id": "OCPSadorLD_a"
      }
    },
    {
      "cell_type": "code",
      "source": [
        "c=9\n",
        "print(c>9 and c<=10)\n",
        "print(c>9 or c<=9)\n",
        "print(not(c>=9 or c<=9))"
      ],
      "metadata": {
        "colab": {
          "base_uri": "https://localhost:8080/"
        },
        "id": "wI_MTCx2LGUe",
        "outputId": "3541d9ef-9819-4f3f-a98d-c6183c85df25"
      },
      "execution_count": null,
      "outputs": [
        {
          "output_type": "stream",
          "name": "stdout",
          "text": [
            "False\n",
            "True\n",
            "False\n"
          ]
        }
      ]
    },
    {
      "cell_type": "markdown",
      "source": [
        "Bitwise Operators"
      ],
      "metadata": {
        "id": "JNi6jHFCQzHl"
      }
    },
    {
      "cell_type": "code",
      "source": [
        "a=10\n",
        "b=8\n",
        "print(a & b) #AND\n",
        "print(a | b) #OR\n",
        "print(a^b)   #XOR\n",
        "print(~a)    #NOT\n",
        "print(~b)\n",
        "print(b>>2)  #signed right shift\n",
        "print(b<<2)  #zero fill left shift"
      ],
      "metadata": {
        "colab": {
          "base_uri": "https://localhost:8080/"
        },
        "id": "dEGOtasEQ3ar",
        "outputId": "abfb5366-49db-4ffe-f53e-79a5609796bd"
      },
      "execution_count": null,
      "outputs": [
        {
          "output_type": "stream",
          "name": "stdout",
          "text": [
            "8\n",
            "10\n",
            "2\n",
            "-11\n",
            "-9\n",
            "2\n",
            "32\n"
          ]
        }
      ]
    },
    {
      "cell_type": "markdown",
      "source": [
        "If statement"
      ],
      "metadata": {
        "id": "Mc9bDwxlVfa1"
      }
    },
    {
      "cell_type": "code",
      "source": [
        "N = int(input(\"Enter the value : \"))\n",
        "if N%2==0:\n",
        "  print(N,\"is even number\")\n",
        "else:\n",
        " print(N,\"is Odd number\")"
      ],
      "metadata": {
        "colab": {
          "base_uri": "https://localhost:8080/"
        },
        "id": "BFzrvvAuVjP7",
        "outputId": "2aa2e3e6-98a9-402e-ad5c-ead69f8ad8f8"
      },
      "execution_count": null,
      "outputs": [
        {
          "output_type": "stream",
          "name": "stdout",
          "text": [
            "Enter the value : 45\n",
            "45 is Odd number\n"
          ]
        }
      ]
    },
    {
      "cell_type": "code",
      "source": [
        "P=int(input())\n",
        "if P%2==0:\n",
        "  print(\"even\")\n",
        "else:\n",
        "  print(\"Odd\")"
      ],
      "metadata": {
        "colab": {
          "base_uri": "https://localhost:8080/"
        },
        "id": "FqsgiHMaWVdW",
        "outputId": "e61a89eb-89d5-406d-c29a-64065b9a26ac"
      },
      "execution_count": null,
      "outputs": [
        {
          "output_type": "stream",
          "name": "stdout",
          "text": [
            "0\n",
            "even\n"
          ]
        }
      ]
    },
    {
      "cell_type": "markdown",
      "source": [
        "If Else Statement"
      ],
      "metadata": {
        "id": "AoopEcfQoiF8"
      }
    },
    {
      "cell_type": "code",
      "source": [
        "Name = input()\n",
        "Age = int(input())\n",
        "if Age >= 18:\n",
        "  print(Name, \"Age is \",Age,\"eligible for Vote\")\n",
        "else:\n",
        "  print(Name,\"age is\",Age,\"not eligible for Vote\")"
      ],
      "metadata": {
        "colab": {
          "base_uri": "https://localhost:8080/"
        },
        "id": "WnI5oUBlok6D",
        "outputId": "7010dd09-4435-4ec3-c61b-61f79206b221"
      },
      "execution_count": null,
      "outputs": [
        {
          "output_type": "stream",
          "name": "stdout",
          "text": [
            "Vel\n",
            "13\n",
            "Vel age is 13 not eligible for Vote\n"
          ]
        }
      ]
    },
    {
      "cell_type": "code",
      "source": [
        "student_name=input()\n",
        "Mark=int(input())\n",
        "if Mark >=35:\n",
        " print(student_name,\"has\",Mark,\"marks in this exam = Pass\")\n",
        "else:\n",
        " print(student_name,\"has\",Mark,\"marks in this exam = Fail\")"
      ],
      "metadata": {
        "colab": {
          "base_uri": "https://localhost:8080/"
        },
        "id": "SzuLwDcTpgPr",
        "outputId": "6218d51f-a7e1-4252-b3a3-c0e0f4fe84ff"
      },
      "execution_count": null,
      "outputs": [
        {
          "output_type": "stream",
          "name": "stdout",
          "text": [
            "sam\n",
            "23\n",
            "sam has 23 marks in this exam = Fail\n"
          ]
        }
      ]
    },
    {
      "cell_type": "markdown",
      "source": [
        "Elif statement"
      ],
      "metadata": {
        "id": "ZG2snFNkuaZi"
      }
    },
    {
      "cell_type": "code",
      "source": [
        "days =int(input())\n",
        "\n",
        "if days == 0:\n",
        "  print(\"No Fine\")\n",
        "elif (days>=1 and days<=5):\n",
        "  print(\"Fine amount is \",days*1)\n",
        "elif (days>5 and days<=10):\n",
        "  print(\"Fine amount is \",days*5)\n",
        "else:\n",
        "  print(\"License will be cancelled\")\n"
      ],
      "metadata": {
        "colab": {
          "base_uri": "https://localhost:8080/"
        },
        "id": "dPUZ3HBGue4H",
        "outputId": "0993c5f4-a507-47c7-a0a2-ceefd4013005"
      },
      "execution_count": null,
      "outputs": [
        {
          "output_type": "stream",
          "name": "stdout",
          "text": [
            "1\n",
            "Fine amount is  1\n"
          ]
        }
      ]
    },
    {
      "cell_type": "markdown",
      "source": [
        "Nested If"
      ],
      "metadata": {
        "id": "ggjQUGyCy1_E"
      }
    },
    {
      "cell_type": "code",
      "source": [
        "s1=int(input())\n",
        "s2=int(input())\n",
        "s3=int(input())\n",
        "total=s1+s2+s3\n",
        "avg=total/3.0\n",
        "print(\"Total Marks :\", total)\n",
        "print(\"Total Average :\", avg)\n",
        "if (s1>=35 and s2>=35 and s3>=35):\n",
        "  print(\"Pass\")\n",
        "  if (avg>=90 and avg<=100):\n",
        "   print(\"A Grade\")\n",
        "  elif(avg<=89 and avg>=70):\n",
        "   print(\"B Grade\")\n",
        "  else:\n",
        "   print(\"C Grade\")\n",
        "else:\n",
        "  print(\"Fail\")"
      ],
      "metadata": {
        "colab": {
          "base_uri": "https://localhost:8080/"
        },
        "id": "fT7W7A36y4ra",
        "outputId": "6c643f23-af63-4bc5-a47d-034070e32924"
      },
      "execution_count": null,
      "outputs": [
        {
          "output_type": "stream",
          "name": "stdout",
          "text": [
            "78\n",
            "67\n",
            "89\n",
            "Total Marks : 234\n",
            "Total Average : 78.0\n",
            "Pass\n",
            "B Grade\n"
          ]
        }
      ]
    }
  ]
}