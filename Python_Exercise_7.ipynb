{
  "nbformat": 4,
  "nbformat_minor": 0,
  "metadata": {
    "colab": {
      "name": "12/06.ipynb",
      "provenance": [],
      "collapsed_sections": [],
      "authorship_tag": "ABX9TyOGYhvpAibJazyNVZJZ2hoA",
      "include_colab_link": true
    },
    "kernelspec": {
      "name": "python3",
      "display_name": "Python 3"
    },
    "language_info": {
      "name": "python"
    }
  },
  "cells": [
    {
      "cell_type": "markdown",
      "metadata": {
        "id": "view-in-github",
        "colab_type": "text"
      },
      "source": [
        "<a href=\"https://colab.research.google.com/github/PalanivelH/PythonExercises/blob/main/Python_Exercise_7.ipynb\" target=\"_parent\"><img src=\"https://colab.research.google.com/assets/colab-badge.svg\" alt=\"Open In Colab\"/></a>"
      ]
    },
    {
      "cell_type": "code",
      "source": [
        "#init method\n",
        "\n",
        "\n",
        "class a():\n",
        "\n",
        "  def __init__(self,value):\n",
        "    print(\"The End !\")\n",
        "    self.value=value\n",
        "\n",
        "  def w(self):\n",
        "    print(\"Enter the value :\", self.value)\n",
        "\n",
        "\n",
        "\n",
        "o=a(\"Shyam\")\n",
        "\n",
        "o.w()\n",
        "\n",
        "print(a.__dict__)\n",
        "print(o.__dict__)\n",
        "\n"
      ],
      "metadata": {
        "colab": {
          "base_uri": "https://localhost:8080/"
        },
        "id": "wBZV9aJ87s8o",
        "outputId": "985bf6f4-897a-4d3f-d18b-f66d920564fd"
      },
      "execution_count": null,
      "outputs": [
        {
          "output_type": "stream",
          "name": "stdout",
          "text": [
            "The End !\n",
            "Enter the value : Shyam\n",
            "{'__module__': '__main__', '__init__': <function a.__init__ at 0x7fb0d1dae560>, 'w': <function a.w at 0x7fb0d1dae170>, '__dict__': <attribute '__dict__' of 'a' objects>, '__weakref__': <attribute '__weakref__' of 'a' objects>, '__doc__': None}\n",
            "{'value': 'Shyam'}\n"
          ]
        }
      ]
    }
  ]
}