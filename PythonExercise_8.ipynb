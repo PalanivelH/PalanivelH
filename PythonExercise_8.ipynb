{
  "nbformat": 4,
  "nbformat_minor": 0,
  "metadata": {
    "colab": {
      "name": "13/06.ipynb",
      "provenance": [],
      "collapsed_sections": [],
      "authorship_tag": "ABX9TyPJzjZF7+6HuBki3uj23WD4",
      "include_colab_link": true
    },
    "kernelspec": {
      "name": "python3",
      "display_name": "Python 3"
    },
    "language_info": {
      "name": "python"
    }
  },
  "cells": [
    {
      "cell_type": "markdown",
      "metadata": {
        "id": "view-in-github",
        "colab_type": "text"
      },
      "source": [
        "<a href=\"https://colab.research.google.com/github/PalanivelH/PythonExercises/blob/main/PythonExercise_8.ipynb\" target=\"_parent\"><img src=\"https://colab.research.google.com/assets/colab-badge.svg\" alt=\"Open In Colab\"/></a>"
      ]
    },
    {
      "cell_type": "code",
      "execution_count": null,
      "metadata": {
        "colab": {
          "base_uri": "https://localhost:8080/"
        },
        "id": "TJTt4Iz50UjL",
        "outputId": "b76abffd-afc6-4e52-863a-68bda5e398a4"
      },
      "outputs": [
        {
          "output_type": "stream",
          "name": "stdout",
          "text": [
            "Thanks for your support!\n",
            "Welcome\n"
          ]
        }
      ],
      "source": [
        "class code:\n",
        "\n",
        "  def code1(self):\n",
        "    print(\"Thanks for your support!\")\n",
        "\n",
        "  def code2(self):\n",
        "    print(\"Welcome\")\n",
        "\n",
        "obj=code()\n",
        "\n",
        "obj.code1()\n",
        "obj.code2()"
      ]
    },
    {
      "cell_type": "code",
      "source": [
        "class a:\n",
        "  \n",
        "  def __init__(self,Id,City):\n",
        "    self.Id=Id\n",
        "    self.City=City\n",
        "  \n",
        "  def f(self):\n",
        "    print(\"This is their :\",self.Id,\"and\",self.City)\n",
        "\n",
        "obj=a(12345,'chennai')\n",
        "obj.f()\n",
        "\n"
      ],
      "metadata": {
        "colab": {
          "base_uri": "https://localhost:8080/"
        },
        "id": "rbSGjzSx9DfA",
        "outputId": "db016cca-331c-402c-b507-ae243745fdfb"
      },
      "execution_count": null,
      "outputs": [
        {
          "output_type": "stream",
          "name": "stdout",
          "text": [
            "This is their : 12345 and chennai\n"
          ]
        }
      ]
    },
    {
      "cell_type": "code",
      "source": [
        "class division():\n",
        "\n",
        "  def __init__(self,unit,place):\n",
        "    self.unit=unit\n",
        "    self.place=place\n",
        "\n",
        "  def m(self):\n",
        "    print(\"Print their division values:\",self.unit,self.place)\n",
        "\n",
        "obj=division('unit-1','Thirusur')\n",
        "\n",
        "obj.m()\n"
      ],
      "metadata": {
        "colab": {
          "base_uri": "https://localhost:8080/"
        },
        "id": "sesBb5s1MfXb",
        "outputId": "fff6092b-521d-4f70-c1d1-73740f2dfe84"
      },
      "execution_count": null,
      "outputs": [
        {
          "output_type": "stream",
          "name": "stdout",
          "text": [
            "Print their division values: unit-1 Thirusur\n"
          ]
        }
      ]
    },
    {
      "cell_type": "code",
      "source": [
        "class d():\n",
        "\n",
        "  def __init__(self1):\n",
        "    print(\"Thanks\")\n",
        "\n",
        "  def __init__(self2):\n",
        "    print(\"Thankyou\")\n",
        "\n",
        "  def __init__(self3):\n",
        "    print(\"Thanks a lot\")\n",
        "    print(\"Thankyou\")\n",
        "    print(\"Thanks\")\n",
        "  \n",
        "\n",
        "o=d()\n"
      ],
      "metadata": {
        "colab": {
          "base_uri": "https://localhost:8080/"
        },
        "id": "aqgQNO_VRJjl",
        "outputId": "24f035bb-90d4-47b3-d7be-7b31c60427a7"
      },
      "execution_count": null,
      "outputs": [
        {
          "output_type": "stream",
          "name": "stdout",
          "text": [
            "Thanks a lot\n",
            "Thankyou\n",
            "Thanks\n"
          ]
        }
      ]
    },
    {
      "cell_type": "code",
      "source": [
        "#Class and Object\n",
        "class a():\n",
        "  pass\n",
        "\n",
        "obj=a()\n",
        "print(type(obj))\n",
        "\n",
        "i = 10\n",
        "print(type(i))\n",
        "\n",
        "print(isinstance(i,int))\n",
        "print(isinstance(obj,a))"
      ],
      "metadata": {
        "colab": {
          "base_uri": "https://localhost:8080/"
        },
        "id": "OhrN-HeOIyRA",
        "outputId": "2ca04432-f835-4378-e9ab-a09c20a95e66"
      },
      "execution_count": null,
      "outputs": [
        {
          "output_type": "stream",
          "name": "stdout",
          "text": [
            "<class '__main__.a'>\n",
            "<class 'int'>\n",
            "True\n",
            "True\n"
          ]
        }
      ]
    },
    {
      "cell_type": "code",
      "source": [
        "#Class Attributes\n",
        "\n",
        "\n",
        "class a():\n",
        "\n",
        "  print(a.__dict__)\n",
        " \n",
        "  speed = 120\n",
        "  distance = 100\n",
        "  time = 2\n",
        "\n",
        "print(getattr(a,'speed'))\n",
        "print(getattr(a,'time'))\n",
        "print(a.distance)\n",
        "print(\"-------------------------\")\n",
        "setattr(a,'speed',100)\n",
        "setattr(a,'place','madurai')\n",
        "setattr(a,'speed',200)\n",
        "a.division='unit 1'\n",
        "print(a.speed)\n",
        "print(a.place)\n",
        "print(a.division)\n",
        "print(\"------------------------\")\n",
        "print(a.__dict__)\n",
        "delattr(a,'speed')\n",
        "print(a.__dict__)\n",
        "del a.division\n",
        "print(a.__dict__)\n"
      ],
      "metadata": {
        "colab": {
          "base_uri": "https://localhost:8080/"
        },
        "id": "s8hClPuzP2uk",
        "outputId": "ffd85b7f-0f38-45e8-c693-0e38f950d241"
      },
      "execution_count": null,
      "outputs": [
        {
          "output_type": "stream",
          "name": "stdout",
          "text": [
            "{'__module__': '__main__', 'distance': 100, 'time': 2, '__dict__': <attribute '__dict__' of 'a' objects>, '__weakref__': <attribute '__weakref__' of 'a' objects>, '__doc__': None, 'place': 'madurai'}\n",
            "120\n",
            "2\n",
            "100\n",
            "-------------------------\n",
            "200\n",
            "madurai\n",
            "unit 1\n",
            "------------------------\n",
            "{'__module__': '__main__', 'speed': 200, 'distance': 100, 'time': 2, '__dict__': <attribute '__dict__' of 'a' objects>, '__weakref__': <attribute '__weakref__' of 'a' objects>, '__doc__': None, 'place': 'madurai', 'division': 'unit 1'}\n",
            "{'__module__': '__main__', 'distance': 100, 'time': 2, '__dict__': <attribute '__dict__' of 'a' objects>, '__weakref__': <attribute '__weakref__' of 'a' objects>, '__doc__': None, 'place': 'madurai', 'division': 'unit 1'}\n",
            "{'__module__': '__main__', 'distance': 100, 'time': 2, '__dict__': <attribute '__dict__' of 'a' objects>, '__weakref__': <attribute '__weakref__' of 'a' objects>, '__doc__': None, 'place': 'madurai'}\n"
          ]
        }
      ]
    },
    {
      "cell_type": "code",
      "source": [
        "class a():\n",
        "\n",
        "  name = \"rajesh\"\n",
        "  Id = 234\n",
        "  place = 'kattur'\n",
        "  school = 'p.v.k.n'\n",
        "\n",
        "print(getattr(a,'school'))\n",
        "print(a.Id)\n",
        "\n",
        "setattr(a,'div','Not available')\n",
        "print(a.div)\n",
        "a.div='unit 1'\n",
        "print(a.div)\n",
        "\n",
        "print(a.__dict__)\n",
        "delattr(a,'place')\n",
        "print(a.__dict__)\n",
        "del a.school\n",
        "print(a.__dict__)\n"
      ],
      "metadata": {
        "colab": {
          "base_uri": "https://localhost:8080/"
        },
        "id": "Z4Lm3D2-Vns6",
        "outputId": "3fbb80ae-9be9-404d-a6e1-661981fc3086"
      },
      "execution_count": null,
      "outputs": [
        {
          "output_type": "stream",
          "name": "stdout",
          "text": [
            "p.v.k.n\n",
            "234\n",
            "Not available\n",
            "unit 1\n",
            "{'__module__': '__main__', 'name': 'rajesh', 'Id': 234, 'place': 'kattur', 'school': 'p.v.k.n', '__dict__': <attribute '__dict__' of 'a' objects>, '__weakref__': <attribute '__weakref__' of 'a' objects>, '__doc__': None, 'div': 'unit 1'}\n",
            "{'__module__': '__main__', 'name': 'rajesh', 'Id': 234, 'school': 'p.v.k.n', '__dict__': <attribute '__dict__' of 'a' objects>, '__weakref__': <attribute '__weakref__' of 'a' objects>, '__doc__': None, 'div': 'unit 1'}\n",
            "{'__module__': '__main__', 'name': 'rajesh', 'Id': 234, '__dict__': <attribute '__dict__' of 'a' objects>, '__weakref__': <attribute '__weakref__' of 'a' objects>, '__doc__': None, 'div': 'unit 1'}\n"
          ]
        }
      ]
    },
    {
      "cell_type": "code",
      "source": [
        "#Instance Attribute\n",
        "\n",
        "class clas():\n",
        "  A1=\"well\"\n",
        "\n",
        "\n",
        "obj=clas()\n",
        "print(obj.__dict__)\n",
        "print(obj.A1)\n",
        "\n",
        "obj.A1='first'  #Instance Varible has assigned \n",
        "print(obj.A1)\n",
        "print(obj.__dict__)\n",
        "\n",
        "obj1=clas()\n",
        "print(obj1.__dict__)\n",
        "print(obj1.A1)\n",
        "print(obj1.__dict__)\n",
        "\n",
        "clas.A1='vwl'\n",
        "print(clas.A1)\n",
        "\n",
        "obj2=clas()\n",
        "print(obj2.A1)"
      ],
      "metadata": {
        "colab": {
          "base_uri": "https://localhost:8080/"
        },
        "id": "weAuZL6robug",
        "outputId": "5dbfddbb-4c85-4367-acd7-1f7344cf30aa"
      },
      "execution_count": null,
      "outputs": [
        {
          "output_type": "stream",
          "name": "stdout",
          "text": [
            "{}\n",
            "well\n",
            "first\n",
            "{'A1': 'first'}\n",
            "{}\n",
            "well\n",
            "{}\n",
            "vwl\n",
            "vwl\n"
          ]
        }
      ]
    },
    {
      "cell_type": "code",
      "source": [
        "#Class Method\n",
        "\n",
        "class cls():\n",
        "\n",
        "  Id = 675454\n",
        "  Name = 'mukesh'\n",
        "\n",
        "  def f():\n",
        "    print(cls.Name) # Method or Functioning\n",
        "    print(cls.Id)\n",
        "\n",
        "cls.f()\n",
        "\n",
        "getattr(cls,'f')()\n",
        "\n"
      ],
      "metadata": {
        "colab": {
          "base_uri": "https://localhost:8080/"
        },
        "id": "jONgbk9Iw7z8",
        "outputId": "119e3129-8f73-4100-b515-5c17cce6e3e5"
      },
      "execution_count": null,
      "outputs": [
        {
          "output_type": "stream",
          "name": "stdout",
          "text": [
            "mukesh\n",
            "675454\n",
            "mukesh\n",
            "675454\n"
          ]
        }
      ]
    },
    {
      "cell_type": "code",
      "source": [
        "class v1():\n",
        "  var1= 'string'\n",
        "  var2= 90\n",
        "\n",
        "  def v2():\n",
        "    print(\"Enter the value :\", v1.var2)\n",
        "    print(\"Enter the value1 :\", v1.var1)\n",
        "\n",
        "v1.v2()"
      ],
      "metadata": {
        "colab": {
          "base_uri": "https://localhost:8080/"
        },
        "id": "F_Eu0mBm1Qj5",
        "outputId": "722217a8-f745-4a03-c47c-49c82253fbbe"
      },
      "execution_count": null,
      "outputs": [
        {
          "output_type": "stream",
          "name": "stdout",
          "text": [
            "Enter the value : 90\n",
            "Enter the value1 : string\n"
          ]
        }
      ]
    },
    {
      "cell_type": "code",
      "source": [
        "class class1():\n",
        "  var1= \"values\"\n",
        "  var2= 100\n",
        "\n",
        "  def func():\n",
        "    print(\"Enter the var1 :\",class1.var1)\n",
        "    print(\"Enter the var2 :\",class1.var2)\n",
        "\n",
        "class1.func()\n",
        "getattr(class1,'func')()\n",
        "\n",
        "class1.__dict__['func']()"
      ],
      "metadata": {
        "colab": {
          "base_uri": "https://localhost:8080/"
        },
        "id": "P2STxNWd2yvD",
        "outputId": "bf67d83f-285a-4c0f-d973-770be7795a91"
      },
      "execution_count": null,
      "outputs": [
        {
          "output_type": "stream",
          "name": "stdout",
          "text": [
            "Enter the var1 : values\n",
            "Enter the var2 : 100\n",
            "Enter the var1 : values\n",
            "Enter the var2 : 100\n",
            "Enter the var1 : values\n",
            "Enter the var2 : 100\n"
          ]
        }
      ]
    },
    {
      "cell_type": "code",
      "source": [
        "#Instance Method\n",
        "\n",
        "class classes():\n",
        "\n",
        "  id = '159999'\n",
        "  name = 'vel'\n",
        "\n",
        "  def func(self,place):\n",
        "    print(\"Enter the employee name :\",classes.name)\n",
        "    print(\"Enter the employee's id :\", classes.id)\n",
        "    print(\"Native place of this user :\",place)\n",
        "\n",
        "obj=classes()\n",
        "\n",
        "obj.func('TUP')"
      ],
      "metadata": {
        "colab": {
          "base_uri": "https://localhost:8080/"
        },
        "id": "olCo_fk35dYa",
        "outputId": "ecc23d5c-8898-45c1-b74b-ea8029ad2741"
      },
      "execution_count": null,
      "outputs": [
        {
          "output_type": "stream",
          "name": "stdout",
          "text": [
            "Enter the employee name : vel\n",
            "Enter the employee's id : 159999\n",
            "Native place of this user : TUP\n"
          ]
        }
      ]
    },
    {
      "cell_type": "code",
      "source": [
        "class clas():\n",
        "\n",
        "  var_1=\"name\"\n",
        "  var_2=100\n",
        "\n",
        "  def fun(self,roll,behave):\n",
        "    print(\"Enter the var_1 :\",clas.var_1)\n",
        "    print(\"Enter the var_2 :\",clas.var_2)\n",
        "    print(\"Enter the value1 :\", roll)\n",
        "    print(\"Enter the value2 :\", behave)\n",
        "\n",
        "ob=clas()\n",
        "\n",
        "ob.fun('sight','good')"
      ],
      "metadata": {
        "colab": {
          "base_uri": "https://localhost:8080/"
        },
        "id": "MhY_crI_7puX",
        "outputId": "bfbf496c-cab9-47c7-f610-b3c6cb181e2a"
      },
      "execution_count": null,
      "outputs": [
        {
          "output_type": "stream",
          "name": "stdout",
          "text": [
            "Enter the var_1 : name\n",
            "Enter the var_2 : 100\n",
            "Enter the value1 : sight\n",
            "Enter the value2 : good\n"
          ]
        }
      ]
    },
    {
      "cell_type": "code",
      "source": [
        "#INIT Method\n",
        "\n",
        "class chennai():\n",
        "\n",
        "  def __init__(self,name):\n",
        "    print(\"It's a beautiful !\")\n",
        "    self.name = name\n",
        "\n",
        "  def metho(self):\n",
        "   print(\"Good to see!\", self.name)\n",
        "\n",
        "o1=chennai(\"Reknu\")\n",
        "o1.metho()\n"
      ],
      "metadata": {
        "colab": {
          "base_uri": "https://localhost:8080/"
        },
        "id": "rW92raYpN5A7",
        "outputId": "43c6e9a2-6f67-4de6-c12b-5e62dc91a1cc"
      },
      "execution_count": null,
      "outputs": [
        {
          "output_type": "stream",
          "name": "stdout",
          "text": [
            "It's a beautiful !\n",
            "Good to see! Reknu\n"
          ]
        }
      ]
    },
    {
      "cell_type": "code",
      "source": [
        "class iclass():\n",
        "\n",
        "  def __init__(self,var1):\n",
        "    print(20+30)\n",
        "    self.var1=var1\n",
        "\n",
        "  def p(self):\n",
        "    print(self.var1)\n",
        "   \n",
        "\n",
        "obj=iclass(\"eio\")\n",
        "obj.p()\n"
      ],
      "metadata": {
        "colab": {
          "base_uri": "https://localhost:8080/"
        },
        "id": "nnAV6352S_QH",
        "outputId": "35531dea-d4c2-41e7-8827-a16cd87be141"
      },
      "execution_count": null,
      "outputs": [
        {
          "output_type": "stream",
          "name": "stdout",
          "text": [
            "50\n",
            "eio\n"
          ]
        }
      ]
    }
  ]
}