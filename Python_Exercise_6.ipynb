{
  "nbformat": 4,
  "nbformat_minor": 0,
  "metadata": {
    "colab": {
      "name": "10/06.ipynb",
      "provenance": [],
      "collapsed_sections": [],
      "authorship_tag": "ABX9TyM2hevSDTBVGJGzL/36Z1bx",
      "include_colab_link": true
    },
    "kernelspec": {
      "name": "python3",
      "display_name": "Python 3"
    },
    "language_info": {
      "name": "python"
    }
  },
  "cells": [
    {
      "cell_type": "markdown",
      "metadata": {
        "id": "view-in-github",
        "colab_type": "text"
      },
      "source": [
        "<a href=\"https://colab.research.google.com/github/PalanivelH/PalanivelH/blob/main/Python_Exercise_6.ipynb\" target=\"_parent\"><img src=\"https://colab.research.google.com/assets/colab-badge.svg\" alt=\"Open In Colab\"/></a>"
      ]
    },
    {
      "cell_type": "code",
      "execution_count": null,
      "metadata": {
        "colab": {
          "base_uri": "https://localhost:8080/"
        },
        "id": "Aen9I9rWAPtX",
        "outputId": "68209c7d-d948-418e-cd41-8587a3b49cf8"
      },
      "outputs": [
        {
          "output_type": "stream",
          "name": "stdout",
          "text": [
            "['ArithmeticError', 'AssertionError', 'AttributeError', 'BaseException', 'BlockingIOError', 'BrokenPipeError', 'BufferError', 'BytesWarning', 'ChildProcessError', 'ConnectionAbortedError', 'ConnectionError', 'ConnectionRefusedError', 'ConnectionResetError', 'DeprecationWarning', 'EOFError', 'Ellipsis', 'EnvironmentError', 'Exception', 'False', 'FileExistsError', 'FileNotFoundError', 'FloatingPointError', 'FutureWarning', 'GeneratorExit', 'IOError', 'ImportError', 'ImportWarning', 'IndentationError', 'IndexError', 'InterruptedError', 'IsADirectoryError', 'KeyError', 'KeyboardInterrupt', 'LookupError', 'MemoryError', 'ModuleNotFoundError', 'NameError', 'None', 'NotADirectoryError', 'NotImplemented', 'NotImplementedError', 'OSError', 'OverflowError', 'PendingDeprecationWarning', 'PermissionError', 'ProcessLookupError', 'RecursionError', 'ReferenceError', 'ResourceWarning', 'RuntimeError', 'RuntimeWarning', 'StopAsyncIteration', 'StopIteration', 'SyntaxError', 'SyntaxWarning', 'SystemError', 'SystemExit', 'TabError', 'TimeoutError', 'True', 'TypeError', 'UnboundLocalError', 'UnicodeDecodeError', 'UnicodeEncodeError', 'UnicodeError', 'UnicodeTranslateError', 'UnicodeWarning', 'UserWarning', 'ValueError', 'Warning', 'ZeroDivisionError', '__IPYTHON__', '__build_class__', '__debug__', '__doc__', '__import__', '__loader__', '__name__', '__package__', '__spec__', 'abs', 'all', 'any', 'ascii', 'bin', 'bool', 'breakpoint', 'bytearray', 'bytes', 'callable', 'chr', 'classmethod', 'compile', 'complex', 'copyright', 'credits', 'delattr', 'dict', 'dir', 'display', 'divmod', 'dreload', 'enumerate', 'eval', 'exec', 'execfile', 'filter', 'float', 'format', 'frozenset', 'get_ipython', 'getattr', 'globals', 'hasattr', 'hash', 'help', 'hex', 'id', 'input', 'int', 'isinstance', 'issubclass', 'iter', 'len', 'license', 'list', 'locals', 'map', 'max', 'memoryview', 'min', 'next', 'object', 'oct', 'open', 'ord', 'pow', 'print', 'property', 'range', 'repr', 'reversed', 'round', 'runfile', 'set', 'setattr', 'slice', 'sorted', 'staticmethod', 'str', 'sum', 'super', 'tuple', 'type', 'vars', 'zip']\n",
            "156\n"
          ]
        }
      ],
      "source": [
        "#Type of Exception in Python\n",
        "\n",
        "print(dir(locals()['__builtins__']))\n",
        "\n",
        "print (len(dir(locals()['__builtins__'])))"
      ]
    },
    {
      "cell_type": "markdown",
      "source": [
        "Types of Exceptions in Python"
      ],
      "metadata": {
        "id": "snfCSTBSDRg1"
      }
    },
    {
      "cell_type": "code",
      "source": [
        "#Nameerror Exception\n",
        "\n",
        "try:\n",
        "  print(a)\n",
        "\n",
        "except NameError as e:\n",
        "  print(\"A is not defined\")\n",
        "  print(e)\n"
      ],
      "metadata": {
        "colab": {
          "base_uri": "https://localhost:8080/"
        },
        "id": "hB-OXEBhDWdb",
        "outputId": "6c9e4f6c-1d05-4542-8ec2-9f2614f9b9af"
      },
      "execution_count": null,
      "outputs": [
        {
          "output_type": "stream",
          "name": "stdout",
          "text": [
            "A is not defined\n",
            "name 'a' is not defined\n"
          ]
        }
      ]
    },
    {
      "cell_type": "code",
      "source": [
        "#ZeroDivisionError\n",
        "\n",
        "try:\n",
        "  print(2/0)\n",
        "\n",
        "except ZeroDivisionError as z:\n",
        "  print(\"It's not divisible by zero\")\n",
        "  print(z)"
      ],
      "metadata": {
        "colab": {
          "base_uri": "https://localhost:8080/"
        },
        "id": "oIhrxvJjEKod",
        "outputId": "dcb83ea0-2bc7-44b2-be07-257c156f2d98"
      },
      "execution_count": null,
      "outputs": [
        {
          "output_type": "stream",
          "name": "stdout",
          "text": [
            "It's not divisible by zero\n",
            "division by zero\n"
          ]
        }
      ]
    },
    {
      "cell_type": "code",
      "source": [
        "#ValueError\n",
        "\n",
        "try:\n",
        "  r=int(\"Google\") #here we should only give integer, if we give others, it will throw exception\n",
        "  print(r)\n",
        "\n",
        "except ValueError as v:\n",
        "  print(\"Please enter the integer values only!\")\n",
        "  print(v)\n",
        "  "
      ],
      "metadata": {
        "colab": {
          "base_uri": "https://localhost:8080/"
        },
        "id": "ZJ4cnAmoFYlE",
        "outputId": "fb922d27-382f-41ef-be99-10a145a4c1cd"
      },
      "execution_count": null,
      "outputs": [
        {
          "output_type": "stream",
          "name": "stdout",
          "text": [
            "Please enter the integer values only!\n",
            "invalid literal for int() with base 10: 'Google'\n"
          ]
        }
      ]
    },
    {
      "cell_type": "code",
      "source": [
        "#IndexError\n",
        "\n",
        "try:\n",
        "  a=[12,90,89]\n",
        "  print(a[3])\n",
        "\n",
        "except IndexError as i:\n",
        "  print(\"Invalid Index\")\n",
        "  print(i)"
      ],
      "metadata": {
        "colab": {
          "base_uri": "https://localhost:8080/"
        },
        "id": "v0MxPdrKGfdK",
        "outputId": "24b80c4a-10c9-4529-833c-50954a7ede6b"
      },
      "execution_count": null,
      "outputs": [
        {
          "output_type": "stream",
          "name": "stdout",
          "text": [
            "Invalid Index\n",
            "list index out of range\n"
          ]
        }
      ]
    },
    {
      "cell_type": "code",
      "source": [
        "#FileNotFound Resume_Palanivel.docx (3) (1)   ----> Doubt\n",
        "\n",
        "try:\n",
        "  f=open()\n",
        "\n",
        "except FileNotFoundError:\n",
        "  print(\"File is not found\")\n",
        "\n",
        "else:\n",
        "  print(f.read())"
      ],
      "metadata": {
        "colab": {
          "base_uri": "https://localhost:8080/",
          "height": 235
        },
        "id": "6lHtmJb6Hzcm",
        "outputId": "03d67cca-62a4-4cc6-8e02-edc87ec284a1"
      },
      "execution_count": null,
      "outputs": [
        {
          "output_type": "error",
          "ename": "TypeError",
          "evalue": "ignored",
          "traceback": [
            "\u001b[0;31m---------------------------------------------------------------------------\u001b[0m",
            "\u001b[0;31mTypeError\u001b[0m                                 Traceback (most recent call last)",
            "\u001b[0;32m<ipython-input-24-336a80262dee>\u001b[0m in \u001b[0;36m<module>\u001b[0;34m()\u001b[0m\n\u001b[1;32m      2\u001b[0m \u001b[0;34m\u001b[0m\u001b[0m\n\u001b[1;32m      3\u001b[0m \u001b[0;32mtry\u001b[0m\u001b[0;34m:\u001b[0m\u001b[0;34m\u001b[0m\u001b[0;34m\u001b[0m\u001b[0m\n\u001b[0;32m----> 4\u001b[0;31m   \u001b[0mf\u001b[0m\u001b[0;34m=\u001b[0m\u001b[0mopen\u001b[0m\u001b[0;34m(\u001b[0m\u001b[0;34m)\u001b[0m\u001b[0;34m\u001b[0m\u001b[0;34m\u001b[0m\u001b[0m\n\u001b[0m\u001b[1;32m      5\u001b[0m \u001b[0;34m\u001b[0m\u001b[0m\n\u001b[1;32m      6\u001b[0m \u001b[0;32mexcept\u001b[0m \u001b[0mFileNotFoundError\u001b[0m\u001b[0;34m:\u001b[0m\u001b[0;34m\u001b[0m\u001b[0;34m\u001b[0m\u001b[0m\n",
            "\u001b[0;31mTypeError\u001b[0m: open() missing required argument 'file' (pos 1)"
          ]
        }
      ]
    },
    {
      "cell_type": "code",
      "source": [
        "#Multiple Error Exception"
      ],
      "metadata": {
        "id": "lgPUP8AoOFAi"
      },
      "execution_count": null,
      "outputs": []
    },
    {
      "cell_type": "code",
      "source": [
        "try:\n",
        "  a=10/0\n",
        "  print(a)\n",
        "\n",
        "except ZeroDivisionError as z:\n",
        "  print(\"Denominator shouldn't be zero\")\n",
        "\n",
        "try:  \n",
        "  b=[1,3,6]\n",
        "  print(b[4])\n",
        "\n",
        "except IndexError as i:\n",
        "  print(\"Please provide correct index number\")"
      ],
      "metadata": {
        "colab": {
          "base_uri": "https://localhost:8080/"
        },
        "id": "t6_DypE4OJE7",
        "outputId": "6f5aac43-fb9d-4b53-dccd-6b27b7290431"
      },
      "execution_count": null,
      "outputs": [
        {
          "output_type": "stream",
          "name": "stdout",
          "text": [
            "Denominator shouldn't be zero\n",
            "Please provide correct index number\n"
          ]
        }
      ]
    },
    {
      "cell_type": "markdown",
      "source": [
        "Class and Objects"
      ],
      "metadata": {
        "id": "1cSLH1dTcoMi"
      }
    },
    {
      "cell_type": "code",
      "source": [
        "class name():\n",
        "  pass \n",
        "\n",
        "  r=10\n",
        "  print(type(r))\n",
        "\n",
        "  print(type(name))\n",
        "\n",
        "school=name()\n",
        "print(isinstance(school,name))\n",
        "\n",
        "print(isinstance(a,int))\n",
        "print(type(school))\n",
        "print(isinstance(name,school))"
      ],
      "metadata": {
        "colab": {
          "base_uri": "https://localhost:8080/",
          "height": 287
        },
        "id": "Qp2s2SWHcrxX",
        "outputId": "2e95ed49-46cc-4d7f-b5cf-23acfd5e0bcc"
      },
      "execution_count": null,
      "outputs": [
        {
          "output_type": "stream",
          "name": "stdout",
          "text": [
            "<class 'int'>\n",
            "<class 'type'>\n",
            "True\n",
            "False\n",
            "<class '__main__.name'>\n"
          ]
        },
        {
          "output_type": "error",
          "ename": "TypeError",
          "evalue": "ignored",
          "traceback": [
            "\u001b[0;31m---------------------------------------------------------------------------\u001b[0m",
            "\u001b[0;31mTypeError\u001b[0m                                 Traceback (most recent call last)",
            "\u001b[0;32m<ipython-input-41-0999c838dfba>\u001b[0m in \u001b[0;36m<module>\u001b[0;34m()\u001b[0m\n\u001b[1;32m     12\u001b[0m \u001b[0mprint\u001b[0m\u001b[0;34m(\u001b[0m\u001b[0misinstance\u001b[0m\u001b[0;34m(\u001b[0m\u001b[0ma\u001b[0m\u001b[0;34m,\u001b[0m\u001b[0mint\u001b[0m\u001b[0;34m)\u001b[0m\u001b[0;34m)\u001b[0m\u001b[0;34m\u001b[0m\u001b[0;34m\u001b[0m\u001b[0m\n\u001b[1;32m     13\u001b[0m \u001b[0mprint\u001b[0m\u001b[0;34m(\u001b[0m\u001b[0mtype\u001b[0m\u001b[0;34m(\u001b[0m\u001b[0mschool\u001b[0m\u001b[0;34m)\u001b[0m\u001b[0;34m)\u001b[0m\u001b[0;34m\u001b[0m\u001b[0;34m\u001b[0m\u001b[0m\n\u001b[0;32m---> 14\u001b[0;31m \u001b[0mprint\u001b[0m\u001b[0;34m(\u001b[0m\u001b[0misinstance\u001b[0m\u001b[0;34m(\u001b[0m\u001b[0mname\u001b[0m\u001b[0;34m,\u001b[0m\u001b[0mschool\u001b[0m\u001b[0;34m)\u001b[0m\u001b[0;34m)\u001b[0m\u001b[0;34m\u001b[0m\u001b[0;34m\u001b[0m\u001b[0m\n\u001b[0m",
            "\u001b[0;31mTypeError\u001b[0m: isinstance() arg 2 must be a type or tuple of types"
          ]
        }
      ]
    },
    {
      "cell_type": "code",
      "source": [
        "#Class Attribute\n",
        "\n",
        "\n",
        "class college():\n",
        "  name = \"AIT\"\n",
        "  place = \"Madurai\"\n",
        "\"\"\"\n",
        "#getattribute Method\n",
        "print(getattr(college,'name'))\n",
        "print(getattr(college,'place'))\n",
        "print(getattr(college,'address','Not found'))\n",
        "\n",
        "#dot notation Method\n",
        "print(college.name)\n",
        "print(college.place)\n",
        "\"\"\"\n",
        "\n",
        "#setattr - to update the attribute values\n",
        "\n",
        "setattr(college,'name','Mass')\n",
        "print(college.name)\n",
        "\n",
        "setattr(college,'address','kamaraj street')\n",
        "college.address=\"Samraj Street\"\n",
        "print(college.address)\n",
        "\n",
        "print(college.__dict__)\n",
        "\n",
        "delattr(college,'address')\n",
        "print(college.__dict__)\n",
        "\n",
        "del (college.place)\n",
        "print(college.__dict__)\n"
      ],
      "metadata": {
        "colab": {
          "base_uri": "https://localhost:8080/"
        },
        "id": "ZB27AvJzkfRR",
        "outputId": "4ad7983e-9120-47eb-8c53-19f166ccf4df"
      },
      "execution_count": null,
      "outputs": [
        {
          "output_type": "stream",
          "name": "stdout",
          "text": [
            "Mass\n",
            "Samraj Street\n",
            "{'__module__': '__main__', 'name': 'Mass', 'place': 'Madurai', '__dict__': <attribute '__dict__' of 'college' objects>, '__weakref__': <attribute '__weakref__' of 'college' objects>, '__doc__': None, 'address': 'Samraj Street'}\n",
            "{'__module__': '__main__', 'name': 'Mass', 'place': 'Madurai', '__dict__': <attribute '__dict__' of 'college' objects>, '__weakref__': <attribute '__weakref__' of 'college' objects>, '__doc__': None}\n",
            "{'__module__': '__main__', 'name': 'Mass', '__dict__': <attribute '__dict__' of 'college' objects>, '__weakref__': <attribute '__weakref__' of 'college' objects>, '__doc__': None}\n"
          ]
        }
      ]
    },
    {
      "cell_type": "code",
      "source": [
        "class employee():\n",
        "  Id = 12345\n",
        "  name = 'suresh'\n",
        "\n",
        "getattr(employee,'Id')\n",
        "print(getattr(employee,'Id'))\n",
        "print(employee.Id)\n",
        "\n",
        "setattr(employee,'Place','Chennai')\n",
        "print(employee.Place)\n",
        "\n",
        "employee.Place='Coimbatore'\n",
        "print(employee.Place)\n",
        "\n",
        "print(employee.__dict__)\n",
        "\n",
        "delattr(employee,\"Place\")\n",
        "print(employee.__dict__)\n",
        "\n",
        "del(employee.name)\n",
        "print(employee.__dict__)"
      ],
      "metadata": {
        "colab": {
          "base_uri": "https://localhost:8080/"
        },
        "id": "6SsKJjQsr97A",
        "outputId": "13534ccc-8e1d-42e2-d947-9d91c469cd59"
      },
      "execution_count": null,
      "outputs": [
        {
          "output_type": "stream",
          "name": "stdout",
          "text": [
            "12345\n",
            "12345\n",
            "Chennai\n",
            "Coimbatore\n",
            "{'__module__': '__main__', 'Id': 12345, 'name': 'suresh', '__dict__': <attribute '__dict__' of 'employee' objects>, '__weakref__': <attribute '__weakref__' of 'employee' objects>, '__doc__': None, 'Place': 'Coimbatore'}\n",
            "{'__module__': '__main__', 'Id': 12345, 'name': 'suresh', '__dict__': <attribute '__dict__' of 'employee' objects>, '__weakref__': <attribute '__weakref__' of 'employee' objects>, '__doc__': None}\n",
            "{'__module__': '__main__', 'Id': 12345, '__dict__': <attribute '__dict__' of 'employee' objects>, '__weakref__': <attribute '__weakref__' of 'employee' objects>, '__doc__': None}\n"
          ]
        }
      ]
    },
    {
      "cell_type": "code",
      "source": [
        "class sales():\n",
        "  item_name = 'washer'\n",
        "  quantity = 50\n",
        "  price = 250\n",
        "  desc = \"body wash\"\n",
        "\n",
        "o = sales()\n",
        "\n",
        "print(sales.item_name)  #class attribute\n",
        "print(sales.__dict__)\n",
        "\n",
        "print(o.price)\n",
        "\n",
        "o.price=300\n",
        "\n",
        "print(o.price)\n",
        "\n",
        "o1=sales()\n",
        "\n",
        "print(o1.item_name)\n",
        "\n",
        "print(o1.__dict__)\n",
        "o1.item_name='Shampoo'  #Instance attribute\n",
        "print(o1.__dict__)"
      ],
      "metadata": {
        "colab": {
          "base_uri": "https://localhost:8080/"
        },
        "id": "4al8PoboyiOQ",
        "outputId": "aab0ccd4-f6ce-456b-814d-8f8dfadadf5d"
      },
      "execution_count": null,
      "outputs": [
        {
          "output_type": "stream",
          "name": "stdout",
          "text": [
            "washer\n",
            "{'__module__': '__main__', 'item_name': 'washer', 'quantity': 50, 'price': 250, 'desc': 'body wash', '__dict__': <attribute '__dict__' of 'sales' objects>, '__weakref__': <attribute '__weakref__' of 'sales' objects>, '__doc__': None}\n",
            "250\n",
            "300\n",
            "washer\n",
            "{}\n",
            "{'item_name': 'Shampoo'}\n"
          ]
        }
      ]
    },
    {
      "cell_type": "markdown",
      "source": [
        "Class Methods"
      ],
      "metadata": {
        "id": "nrKOsXOO67LD"
      }
    },
    {
      "cell_type": "code",
      "source": [
        "class marks:\n",
        "  name = 'rajesh'\n",
        "  MathsMark = 67\n",
        "\n",
        "  def student_mark():\n",
        "\n",
        "    print(\"Enter the student name :\", marks.name)\n",
        "    print(\"Enter the MathsMark :\", marks.MathsMark)\n",
        "\n",
        "\n",
        "\n",
        "marks.student_mark()\n",
        "\n",
        "print(getattr(marks,'name'))\n",
        "print(getattr(marks,'MathsMark'))\n",
        "\n",
        "print(getattr(marks,'student_mark')())\n",
        "          \n",
        "  \n"
      ],
      "metadata": {
        "colab": {
          "base_uri": "https://localhost:8080/"
        },
        "id": "VPXp8OUQ69Bz",
        "outputId": "fb2256e7-bad9-4ba1-ab3b-d3beb6f655dd"
      },
      "execution_count": null,
      "outputs": [
        {
          "output_type": "stream",
          "name": "stdout",
          "text": [
            "Enter the student name : rajesh\n",
            "Enter the MathsMark : 67\n",
            "rajesh\n",
            "67\n",
            "Enter the student name : rajesh\n",
            "Enter the MathsMark : 67\n",
            "None\n"
          ]
        }
      ]
    },
    {
      "cell_type": "markdown",
      "source": [
        "# #Instance Method"
      ],
      "metadata": {
        "id": "232HOoo1HC_u"
      }
    },
    {
      "cell_type": "code",
      "source": [
        "class ins:\n",
        "  name = 'ram'\n",
        "  id = 5645\n",
        "  \n",
        "\n",
        "  def fun(self):\n",
        "    print(\"Enter the name :\", ins.name)\n",
        "    print(\"Enter the Id :\", ins.id)\n",
        "    \n",
        "o=ins()\n",
        "\n",
        "o.fun()\n",
        "\n",
        "  "
      ],
      "metadata": {
        "colab": {
          "base_uri": "https://localhost:8080/"
        },
        "id": "MDfMbuqSHF37",
        "outputId": "191bee3d-eeeb-4933-b125-440da96af484"
      },
      "execution_count": null,
      "outputs": [
        {
          "output_type": "stream",
          "name": "stdout",
          "text": [
            "Enter the name : ram\n",
            "Enter the Id : 5645\n"
          ]
        }
      ]
    },
    {
      "cell_type": "code",
      "source": [
        "class a():\n",
        "  item = 'Accessories'\n",
        "  quantity = 50\n",
        "  price = 300\n",
        "\n",
        "  def f(self,gender,address):\n",
        "    print(\"Name :\", a.item)\n",
        "    print(\"Size :\", a.quantity)\n",
        "    print(\"Rate :\", a.price)\n",
        "    print(\"Gender :\" ,gender)\n",
        "    print(\"Address :\", address)\n",
        "\n",
        "o=a()\n",
        "a.f(o,'male','k.k.nagar')\n",
        "o.f('male','k.k.nagar')\n",
        "\n"
      ],
      "metadata": {
        "colab": {
          "base_uri": "https://localhost:8080/"
        },
        "id": "4f9rCiMeKMQT",
        "outputId": "7bb18933-ff86-459c-d5c9-ac3478e2d1c2"
      },
      "execution_count": null,
      "outputs": [
        {
          "output_type": "stream",
          "name": "stdout",
          "text": [
            "Name : Accessories\n",
            "Size : 50\n",
            "Rate : 300\n",
            "Gender : male\n",
            "Address : k.k.nagar\n",
            "Name : Accessories\n",
            "Size : 50\n",
            "Rate : 300\n",
            "Gender : male\n",
            "Address : k.k.nagar\n"
          ]
        }
      ]
    }
  ]
}